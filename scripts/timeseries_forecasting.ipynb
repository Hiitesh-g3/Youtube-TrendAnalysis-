{
 "cells": [
  {
   "cell_type": "code",
   "execution_count": 8,
   "id": "797cfad6",
   "metadata": {},
   "outputs": [
    {
     "name": "stdout",
     "output_type": "stream",
     "text": [
      "Processing category: People & Blogs\n"
     ]
    },
    {
     "name": "stderr",
     "output_type": "stream",
     "text": [
      "03:29:12 - cmdstanpy - INFO - Chain [1] start processing\n"
     ]
    },
    {
     "name": "stdout",
     "output_type": "stream",
     "text": [
      "Best ARIMA order: (2, 1, 0) with RMSE: 0.06\n"
     ]
    },
    {
     "name": "stderr",
     "output_type": "stream",
     "text": [
      "03:29:12 - cmdstanpy - INFO - Chain [1] done processing\n"
     ]
    },
    {
     "name": "stdout",
     "output_type": "stream",
     "text": [
      "Processing category: Music\n"
     ]
    },
    {
     "name": "stderr",
     "output_type": "stream",
     "text": [
      "03:29:15 - cmdstanpy - INFO - Chain [1] start processing\n",
      "03:29:15 - cmdstanpy - INFO - Chain [1] done processing\n"
     ]
    },
    {
     "name": "stdout",
     "output_type": "stream",
     "text": [
      "Best ARIMA order: (0, 1, 0) with RMSE: 0.96\n",
      "Processing category: Pets & Animals\n"
     ]
    },
    {
     "name": "stderr",
     "output_type": "stream",
     "text": [
      "03:29:20 - cmdstanpy - INFO - Chain [1] start processing\n"
     ]
    },
    {
     "name": "stdout",
     "output_type": "stream",
     "text": [
      "Best ARIMA order: (0, 0, 0) with RMSE: 0.02\n"
     ]
    },
    {
     "name": "stderr",
     "output_type": "stream",
     "text": [
      "03:29:20 - cmdstanpy - INFO - Chain [1] done processing\n"
     ]
    },
    {
     "name": "stdout",
     "output_type": "stream",
     "text": [
      "Processing category: Gaming\n"
     ]
    },
    {
     "name": "stderr",
     "output_type": "stream",
     "text": [
      "03:29:26 - cmdstanpy - INFO - Chain [1] start processing\n"
     ]
    },
    {
     "name": "stdout",
     "output_type": "stream",
     "text": [
      "Best ARIMA order: (0, 1, 0) with RMSE: 0.09\n"
     ]
    },
    {
     "name": "stderr",
     "output_type": "stream",
     "text": [
      "03:29:26 - cmdstanpy - INFO - Chain [1] done processing\n"
     ]
    },
    {
     "name": "stdout",
     "output_type": "stream",
     "text": [
      "Processing category: Howto & Style\n"
     ]
    },
    {
     "name": "stderr",
     "output_type": "stream",
     "text": [
      "03:29:33 - cmdstanpy - INFO - Chain [1] start processing\n"
     ]
    },
    {
     "name": "stdout",
     "output_type": "stream",
     "text": [
      "Best ARIMA order: (1, 1, 0) with RMSE: 0.05\n"
     ]
    },
    {
     "name": "stderr",
     "output_type": "stream",
     "text": [
      "03:29:34 - cmdstanpy - INFO - Chain [1] done processing\n"
     ]
    },
    {
     "name": "stdout",
     "output_type": "stream",
     "text": [
      "Processing category: Entertainment\n"
     ]
    },
    {
     "name": "stderr",
     "output_type": "stream",
     "text": [
      "03:29:40 - cmdstanpy - INFO - Chain [1] start processing\n"
     ]
    },
    {
     "name": "stdout",
     "output_type": "stream",
     "text": [
      "Best ARIMA order: (1, 1, 1) with RMSE: 0.14\n"
     ]
    },
    {
     "name": "stderr",
     "output_type": "stream",
     "text": [
      "03:29:40 - cmdstanpy - INFO - Chain [1] done processing\n"
     ]
    },
    {
     "name": "stdout",
     "output_type": "stream",
     "text": [
      "Processing category: News & Politics\n"
     ]
    },
    {
     "name": "stderr",
     "output_type": "stream",
     "text": [
      "03:29:46 - cmdstanpy - INFO - Chain [1] start processing\n"
     ]
    },
    {
     "name": "stdout",
     "output_type": "stream",
     "text": [
      "Best ARIMA order: (2, 1, 1) with RMSE: 0.06\n"
     ]
    },
    {
     "name": "stderr",
     "output_type": "stream",
     "text": [
      "03:29:46 - cmdstanpy - INFO - Chain [1] done processing\n"
     ]
    },
    {
     "name": "stdout",
     "output_type": "stream",
     "text": [
      "Processing category: Comedy\n"
     ]
    },
    {
     "name": "stderr",
     "output_type": "stream",
     "text": [
      "03:29:53 - cmdstanpy - INFO - Chain [1] start processing\n",
      "03:29:53 - cmdstanpy - INFO - Chain [1] done processing\n"
     ]
    },
    {
     "name": "stdout",
     "output_type": "stream",
     "text": [
      "Best ARIMA order: (2, 1, 1) with RMSE: 0.04\n",
      "Processing category: Film & Animation\n",
      "Best ARIMA order: (0, 1, 0) with RMSE: 0.20\n"
     ]
    },
    {
     "name": "stderr",
     "output_type": "stream",
     "text": [
      "03:30:00 - cmdstanpy - INFO - Chain [1] start processing\n",
      "03:30:00 - cmdstanpy - INFO - Chain [1] done processing\n"
     ]
    },
    {
     "name": "stdout",
     "output_type": "stream",
     "text": [
      "Processing category: Science & Technology\n"
     ]
    },
    {
     "name": "stderr",
     "output_type": "stream",
     "text": [
      "03:30:06 - cmdstanpy - INFO - Chain [1] start processing\n"
     ]
    },
    {
     "name": "stdout",
     "output_type": "stream",
     "text": [
      "Best ARIMA order: (2, 1, 1) with RMSE: 0.13\n"
     ]
    },
    {
     "name": "stderr",
     "output_type": "stream",
     "text": [
      "03:30:07 - cmdstanpy - INFO - Chain [1] done processing\n"
     ]
    },
    {
     "name": "stdout",
     "output_type": "stream",
     "text": [
      "Processing category: Sports\n",
      "Best ARIMA order: (1, 1, 1) with RMSE: 0.03\n"
     ]
    },
    {
     "name": "stderr",
     "output_type": "stream",
     "text": [
      "03:30:13 - cmdstanpy - INFO - Chain [1] start processing\n",
      "03:30:14 - cmdstanpy - INFO - Chain [1] done processing\n"
     ]
    },
    {
     "name": "stdout",
     "output_type": "stream",
     "text": [
      "Processing category: Autos & Vehicles\n"
     ]
    },
    {
     "name": "stderr",
     "output_type": "stream",
     "text": [
      "03:30:22 - cmdstanpy - INFO - Chain [1] start processing\n",
      "03:30:22 - cmdstanpy - INFO - Chain [1] done processing\n"
     ]
    },
    {
     "name": "stdout",
     "output_type": "stream",
     "text": [
      "Best ARIMA order: (1, 1, 2) with RMSE: 0.00\n",
      "Processing category: Education\n"
     ]
    },
    {
     "name": "stderr",
     "output_type": "stream",
     "text": [
      "03:30:26 - cmdstanpy - INFO - Chain [1] start processing\n"
     ]
    },
    {
     "name": "stdout",
     "output_type": "stream",
     "text": [
      "Best ARIMA order: (1, 0, 2) with RMSE: 0.01\n"
     ]
    },
    {
     "name": "stderr",
     "output_type": "stream",
     "text": [
      "03:30:27 - cmdstanpy - INFO - Chain [1] done processing\n"
     ]
    },
    {
     "name": "stdout",
     "output_type": "stream",
     "text": [
      "Processing category: Travel & Events\n"
     ]
    },
    {
     "name": "stderr",
     "output_type": "stream",
     "text": [
      "03:30:32 - cmdstanpy - INFO - Chain [1] start processing\n"
     ]
    },
    {
     "name": "stdout",
     "output_type": "stream",
     "text": [
      "Best ARIMA order: (0, 1, 2) with RMSE: 0.00\n"
     ]
    },
    {
     "name": "stderr",
     "output_type": "stream",
     "text": [
      "03:30:33 - cmdstanpy - INFO - Chain [1] done processing\n"
     ]
    },
    {
     "name": "stdout",
     "output_type": "stream",
     "text": [
      "Processing category: Nonprofits & Activism\n"
     ]
    },
    {
     "name": "stderr",
     "output_type": "stream",
     "text": [
      "03:30:38 - cmdstanpy - INFO - Chain [1] start processing\n",
      "03:30:38 - cmdstanpy - INFO - Chain [1] done processing\n"
     ]
    },
    {
     "name": "stdout",
     "output_type": "stream",
     "text": [
      "Best ARIMA order: (1, 1, 2) with RMSE: 0.00\n",
      "Processing category: Shows\n"
     ]
    },
    {
     "name": "stderr",
     "output_type": "stream",
     "text": [
      "03:30:43 - cmdstanpy - INFO - Chain [1] start processing\n"
     ]
    },
    {
     "name": "stdout",
     "output_type": "stream",
     "text": [
      "Best ARIMA order: (0, 0, 1) with RMSE: 0.00\n"
     ]
    },
    {
     "name": "stderr",
     "output_type": "stream",
     "text": [
      "03:30:44 - cmdstanpy - INFO - Chain [1] done processing\n"
     ]
    },
    {
     "name": "stdout",
     "output_type": "stream",
     "text": [
      "✅ Models trained and saved successfully!\n"
     ]
    },
    {
     "data": {
      "image/png": "[encoded data removed]",
      "text/plain": [
       "<Figure size 1400x700 with 1 Axes>"
      ]
     },
     "metadata": {},
     "output_type": "display_data"
    }
   ],
   "source": [
    "# timeseries_forecasting.ipynb\n",
    "\n",
    "# 1. Imports\n",
    "import pandas as pd\n",
    "import numpy as np\n",
    "import matplotlib.pyplot as plt\n",
    "import seaborn as sns\n",
    "import pickle\n",
    "from statsmodels.tsa.arima.model import ARIMA\n",
    "from prophet import Prophet\n",
    "from sklearn.metrics import mean_squared_error\n",
    "import warnings\n",
    "warnings.filterwarnings('ignore')\n",
    "\n",
    "# 2. Load Data\n",
    "df = pd.read_csv('../data/processed_data.csv')\n",
    "\n",
    "# 3. Map category_id to readable category names\n",
    "category_mapping = {\n",
    "    1: 'Film & Animation',\n",
    "    2: 'Autos & Vehicles',\n",
    "    10: 'Music',\n",
    "    15: 'Pets & Animals',\n",
    "    17: 'Sports',\n",
    "    18: 'Short Movies',\n",
    "    19: 'Travel & Events',\n",
    "    20: 'Gaming',\n",
    "    21: 'Videoblogging',\n",
    "    22: 'People & Blogs',\n",
    "    23: 'Comedy',\n",
    "    24: 'Entertainment',\n",
    "    25: 'News & Politics',\n",
    "    26: 'Howto & Style',\n",
    "    27: 'Education',\n",
    "    28: 'Science & Technology',\n",
    "    29: 'Nonprofits & Activism',\n",
    "    30: 'Movies',\n",
    "    31: 'Anime/Animation',\n",
    "    32: 'Action/Adventure',\n",
    "    33: 'Classics',\n",
    "    34: 'Comedy',\n",
    "    35: 'Documentary',\n",
    "    36: 'Drama',\n",
    "    37: 'Family',\n",
    "    38: 'Foreign',\n",
    "    39: 'Horror',\n",
    "    40: 'Sci-Fi/Fantasy',\n",
    "    41: 'Thriller',\n",
    "    42: 'Shorts',\n",
    "    43: 'Shows',\n",
    "    44: 'Trailers'\n",
    "}\n",
    "df['category'] = df['category_id'].map(category_mapping)\n",
    "\n",
    "# 4. Fix date column\n",
    "df['trending_date'] = pd.to_datetime(df['trending_date'], format='%y.%d.%m')\n",
    "df = df.sort_values('trending_date')\n",
    "df.set_index('trending_date', inplace=True)\n",
    "\n",
    "# 5. Select features for time series forecasting\n",
    "categories = df['category'].dropna().unique()  # Drop missing category IDs if any\n",
    "\n",
    "# 6. Define a function to split train-test sets\n",
    "def train_test_split_time_series(series, test_size=0.2):\n",
    "    split_idx = int(len(series) * (1 - test_size))\n",
    "    train, test = series[:split_idx], series[split_idx:]\n",
    "    return train, test\n",
    "\n",
    "# 7. Forecasting using ARIMA and Prophet\n",
    "final_forecasts = {}\n",
    "\n",
    "for cat in categories:\n",
    "    print(f\"Processing category: {cat}\")\n",
    "    \n",
    "    # Subset data for the category\n",
    "    cat_df = df[df['category'] == cat].resample('D').sum()  # Daily aggregation\n",
    "    series = cat_df['views'].fillna(0)\n",
    "\n",
    "    # Train-test split\n",
    "    train, test = train_test_split_time_series(series)\n",
    "\n",
    "    # ARIMA modeling\n",
    "    best_rmse = np.inf\n",
    "    best_order = None\n",
    "    best_model = None\n",
    "\n",
    "    # Simple Grid Search for (p,d,q)\n",
    "    for p in range(0, 3):\n",
    "        for d in range(0, 2):\n",
    "            for q in range(0, 3):\n",
    "                try:\n",
    "                    model = ARIMA(train, order=(p, d, q)).fit()\n",
    "                    pred = model.forecast(steps=len(test))\n",
    "                    rmse = np.sqrt(mean_squared_error(test, pred))\n",
    "                    if rmse < best_rmse:\n",
    "                        best_rmse = rmse\n",
    "                        best_order = (p, d, q)\n",
    "                        best_model = model\n",
    "                except:\n",
    "                    continue\n",
    "\n",
    "    print(f\"Best ARIMA order: {best_order} with RMSE: {best_rmse:.2f}\")\n",
    "\n",
    "    # Forecast 30 days ahead\n",
    "    arima_forecast = best_model.forecast(steps=30)\n",
    "\n",
    "    # Prophet modeling\n",
    "    prophet_df = train.reset_index()\n",
    "    prophet_df = prophet_df.rename(columns={'trending_date': 'ds', 'views': 'y'})\n",
    "    \n",
    "    prophet_model = Prophet(daily_seasonality=True)\n",
    "    prophet_model.fit(prophet_df)\n",
    "\n",
    "    future = prophet_model.make_future_dataframe(periods=30)\n",
    "    forecast = prophet_model.predict(future)\n",
    "\n",
    "    prophet_forecast = forecast[['ds', 'yhat']].set_index('ds').iloc[-30:]['yhat']\n",
    "\n",
    "    # Store both models and forecasts\n",
    "    final_forecasts[cat] = {\n",
    "        'arima_forecast': arima_forecast,\n",
    "        'prophet_forecast': prophet_forecast,\n",
    "        'arima_model': best_model,\n",
    "        'prophet_model': prophet_model\n",
    "    }\n",
    "\n",
    "# 8. Save the model forecasts\n",
    "with open('../models/trend_forecast_model.pkl', 'wb') as f:\n",
    "    pickle.dump(final_forecasts, f)\n",
    "\n",
    "print(\"✅ Models trained and saved successfully!\")\n",
    "\n",
    "# 9. (Optional) Plotting a sample category\n",
    "sample_cat = categories[0]\n",
    "arima_pred = final_forecasts[sample_cat]['arima_forecast']\n",
    "prophet_pred = final_forecasts[sample_cat]['prophet_forecast']\n",
    "\n",
    "plt.figure(figsize=(14,7))\n",
    "plt.plot(arima_pred.index, arima_pred.values, label='ARIMA Forecast', marker='o')\n",
    "plt.plot(prophet_pred.index, prophet_pred.values, label='Prophet Forecast', marker='x')\n",
    "plt.title(f\"30-Day Forecast for Category: {sample_cat}\")\n",
    "plt.xlabel('Date')\n",
    "plt.ylabel('Views')\n",
    "plt.legend()\n",
    "plt.grid()\n",
    "plt.show()\n"
   ]
  },
  {
   "cell_type": "code",
   "execution_count": 2,
   "id": "aef91ec3",
   "metadata": {},
   "outputs": [
    {
     "name": "stdout",
     "output_type": "stream",
     "text": [
      "Index(['video_id', 'trending_date', 'title', 'channel_title', 'category_id',\n",
      "       'tags', 'views', 'likes', 'dislikes', 'comment_count', 'thumbnail_link',\n",
      "       'comments_disabled', 'ratings_disabled', 'video_error_or_removed',\n",
      "       'description', 'publish_day', 'publish_month', 'publish_hour',\n",
      "       'category_id_encoded'],\n",
      "      dtype='object')\n"
     ]
    }
   ],
   "source": [
    "print(df.columns)\n"
   ]
  }
 ],
 "metadata": {
  "kernelspec": {
   "display_name": "venv",
   "language": "python",
   "name": "python3"
  },
  "language_info": {
   "codemirror_mode": {
    "name": "ipython",
    "version": 3
   },
   "file_extension": ".py",
   "mimetype": "text/x-python",
   "name": "python",
   "nbconvert_exporter": "python",
   "pygments_lexer": "ipython3",
   "version": "3.13.1"
  }
 },
 "nbformat": 4,
 "nbformat_minor": 5
}
